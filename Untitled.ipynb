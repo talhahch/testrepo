{
 "cells": [
  {
   "cell_type": "markdown",
   "id": "c649aa1a-448d-4951-9943-67e6ccb0ab99",
   "metadata": {},
   "source": [
    "# My Jupyter Notebook on IBM Watson Studio"
   ]
  },
  {
   "cell_type": "markdown",
   "id": "5bc9f42c-5eca-410a-b939-9bba31336d1d",
   "metadata": {},
   "source": [
    "**Talhah Chaudhry**\n",
    "Currently a student"
   ]
  },
  {
   "cell_type": "markdown",
   "id": "c5941bfc-9a80-4619-9026-29347d64d394",
   "metadata": {
    "jupyter": {
     "outputs_hidden": true
    },
    "tags": []
   },
   "source": [
    "*I am intersted in data science because I have a passion for using data to draw meaningful conclusions about a company's growth.*\n",
    "\n"
   ]
  },
  {
   "cell_type": "markdown",
   "id": "e0c4ac33-2bdd-48cf-aa9b-0d1f55147912",
   "metadata": {},
   "source": [
    "### my code prints the required wording"
   ]
  },
  {
   "cell_type": "code",
   "execution_count": 7,
   "id": "0039e97a-20f1-44c6-9674-9e316c5aa8a7",
   "metadata": {},
   "outputs": [
    {
     "name": "stdout",
     "output_type": "stream",
     "text": [
      "I love data science\n"
     ]
    }
   ],
   "source": [
    "print(\"I love data science\")"
   ]
  },
  {
   "cell_type": "markdown",
   "id": "d48b56f6-8e2d-411f-8492-aea8ac6fc8a1",
   "metadata": {},
   "source": [
    "[Google](https://www.google.com)"
   ]
  },
  {
   "cell_type": "markdown",
   "id": "d53a687f-f791-40cf-92ac-801744be830b",
   "metadata": {},
   "source": [
    "1. I \n",
    "2. Love\n",
    "3. Data\n",
    "4. Science"
   ]
  },
  {
   "cell_type": "markdown",
   "id": "8047b280-e50d-45cc-9c9e-7d6fb95d53e5",
   "metadata": {},
   "source": [
    "| Tables  | Are | Cool  |\n",
    "| --------|:---------:| -----:|\n"
   ]
  },
  {
   "cell_type": "code",
   "execution_count": null,
   "id": "9142a1c3-e8f3-4550-8d02-115d21bbb264",
   "metadata": {},
   "outputs": [],
   "source": []
  }
 ],
 "metadata": {
  "kernelspec": {
   "display_name": "Python",
   "language": "python",
   "name": "conda-env-python-py"
  },
  "language_info": {
   "codemirror_mode": {
    "name": "ipython",
    "version": 3
   },
   "file_extension": ".py",
   "mimetype": "text/x-python",
   "name": "python",
   "nbconvert_exporter": "python",
   "pygments_lexer": "ipython3",
   "version": "3.7.12"
  }
 },
 "nbformat": 4,
 "nbformat_minor": 5
}
